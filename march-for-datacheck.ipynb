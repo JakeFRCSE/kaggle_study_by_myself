{
 "cells": [
  {
   "cell_type": "code",
   "execution_count": 1,
   "id": "b7aa2b29",
   "metadata": {
    "_cell_guid": "b1076dfc-b9ad-4769-8c92-a6c4dae69d19",
    "_uuid": "8f2839f25d086af736a60e9eeb907d3b93b6e0e5",
    "execution": {
     "iopub.execute_input": "2024-03-06T06:18:23.451135Z",
     "iopub.status.busy": "2024-03-06T06:18:23.449948Z",
     "iopub.status.idle": "2024-03-06T06:18:26.538930Z",
     "shell.execute_reply": "2024-03-06T06:18:26.537583Z"
    },
    "papermill": {
     "duration": 3.098336,
     "end_time": "2024-03-06T06:18:26.542394",
     "exception": false,
     "start_time": "2024-03-06T06:18:23.444058",
     "status": "completed"
    },
    "tags": []
   },
   "outputs": [],
   "source": [
    "import numpy as np\n",
    "import pandas as pd\n",
    "import seaborn as sns\n",
    "import matplotlib.pyplot as plt\n",
    "\n",
    "import warnings\n",
    "warnings.filterwarnings('ignore')\n",
    "\n",
    "pd.set_option('display.max_columns', 100)\n",
    "\n",
    "%matplotlib inline\n",
    "\n",
    "plt.style.use('fivethirtyeight')"
   ]
  },
  {
   "cell_type": "code",
   "execution_count": 2,
   "id": "19f92b10",
   "metadata": {
    "execution": {
     "iopub.execute_input": "2024-03-06T06:18:26.550827Z",
     "iopub.status.busy": "2024-03-06T06:18:26.550048Z",
     "iopub.status.idle": "2024-03-06T06:18:26.579537Z",
     "shell.execute_reply": "2024-03-06T06:18:26.578097Z"
    },
    "papermill": {
     "duration": 0.036798,
     "end_time": "2024-03-06T06:18:26.582631",
     "exception": false,
     "start_time": "2024-03-06T06:18:26.545833",
     "status": "completed"
    },
    "tags": []
   },
   "outputs": [],
   "source": [
    "submission = pd.read_csv('/kaggle/input/march-machine-learning-mania-2024/sample_submission.csv')\n",
    "submission.to_csv('submission.csv', index = False)"
   ]
  },
  {
   "cell_type": "code",
   "execution_count": null,
   "id": "56c587ac",
   "metadata": {
    "papermill": {
     "duration": 0.002154,
     "end_time": "2024-03-06T06:18:26.587424",
     "exception": false,
     "start_time": "2024-03-06T06:18:26.585270",
     "status": "completed"
    },
    "tags": []
   },
   "outputs": [],
   "source": []
  }
 ],
 "metadata": {
  "kaggle": {
   "accelerator": "none",
   "dataSources": [
    {
     "databundleVersionId": 7840329,
     "sourceId": 70068,
     "sourceType": "competition"
    }
   ],
   "dockerImageVersionId": 30664,
   "isGpuEnabled": false,
   "isInternetEnabled": false,
   "language": "python",
   "sourceType": "notebook"
  },
  "kernelspec": {
   "display_name": "Python 3",
   "language": "python",
   "name": "python3"
  },
  "language_info": {
   "codemirror_mode": {
    "name": "ipython",
    "version": 3
   },
   "file_extension": ".py",
   "mimetype": "text/x-python",
   "name": "python",
   "nbconvert_exporter": "python",
   "pygments_lexer": "ipython3",
   "version": "3.10.13"
  },
  "papermill": {
   "default_parameters": {},
   "duration": 7.712694,
   "end_time": "2024-03-06T06:18:27.415123",
   "environment_variables": {},
   "exception": null,
   "input_path": "__notebook__.ipynb",
   "output_path": "__notebook__.ipynb",
   "parameters": {},
   "start_time": "2024-03-06T06:18:19.702429",
   "version": "2.5.0"
  }
 },
 "nbformat": 4,
 "nbformat_minor": 5
}
