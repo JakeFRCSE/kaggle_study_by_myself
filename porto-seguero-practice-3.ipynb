{
 "cells": [
  {
   "cell_type": "code",
   "execution_count": 1,
   "id": "809b8e3f",
   "metadata": {
    "_cell_guid": "b1076dfc-b9ad-4769-8c92-a6c4dae69d19",
    "_uuid": "8f2839f25d086af736a60e9eeb907d3b93b6e0e5",
    "execution": {
     "iopub.execute_input": "2024-02-21T03:23:36.061414Z",
     "iopub.status.busy": "2024-02-21T03:23:36.060925Z",
     "iopub.status.idle": "2024-02-21T03:23:36.070185Z",
     "shell.execute_reply": "2024-02-21T03:23:36.069530Z"
    },
    "papermill": {
     "duration": 0.016054,
     "end_time": "2024-02-21T03:23:36.071878",
     "exception": false,
     "start_time": "2024-02-21T03:23:36.055824",
     "status": "completed"
    },
    "tags": []
   },
   "outputs": [],
   "source": [
    "MAX_ROUNDS = 400\n",
    "OPTIMIZE_ROUNDS = False\n",
    "LEARNING_RATE = 0.07\n",
    "EARLY_STOPPING_ROUNDS = 50"
   ]
  },
  {
   "cell_type": "code",
   "execution_count": 2,
   "id": "a71873a8",
   "metadata": {
    "execution": {
     "iopub.execute_input": "2024-02-21T03:23:36.079683Z",
     "iopub.status.busy": "2024-02-21T03:23:36.079408Z",
     "iopub.status.idle": "2024-02-21T03:23:39.030584Z",
     "shell.execute_reply": "2024-02-21T03:23:39.029934Z"
    },
    "papermill": {
     "duration": 2.957165,
     "end_time": "2024-02-21T03:23:39.032572",
     "exception": false,
     "start_time": "2024-02-21T03:23:36.075407",
     "status": "completed"
    },
    "tags": []
   },
   "outputs": [],
   "source": [
    "import numpy as np\n",
    "import pandas as pd\n",
    "from xgboost import XGBClassifier\n",
    "from sklearn.model_selection import train_test_split\n",
    "from sklearn.model_selection import KFold\n",
    "from sklearn.preprocessing import LabelEncoder\n",
    "from numba import jit\n",
    "import time\n",
    "import gc\n",
    "import warnings\n",
    "warnings.filterwarnings('ignore')"
   ]
  },
  {
   "cell_type": "code",
   "execution_count": 3,
   "id": "496196bb",
   "metadata": {
    "execution": {
     "iopub.execute_input": "2024-02-21T03:23:39.040953Z",
     "iopub.status.busy": "2024-02-21T03:23:39.040512Z",
     "iopub.status.idle": "2024-02-21T03:23:39.107192Z",
     "shell.execute_reply": "2024-02-21T03:23:39.106344Z"
    },
    "papermill": {
     "duration": 0.073056,
     "end_time": "2024-02-21T03:23:39.109180",
     "exception": false,
     "start_time": "2024-02-21T03:23:39.036124",
     "status": "completed"
    },
    "tags": []
   },
   "outputs": [],
   "source": [
    "@jit\n",
    "def eval_gini(y_true, y_prob):\n",
    "    y_true = np.asarray(y_true)\n",
    "    y_true = y_true[np.argsort(y_prob)]\n",
    "    ntrue = 0\n",
    "    gini = 0\n",
    "    delta = 0\n",
    "    n = len(y_true)\n",
    "    for i in range(n - 1, -1, -1):\n",
    "        y_i = y_true[i]\n",
    "        ntrue += y_i\n",
    "        gini += y_i * delta\n",
    "        delta += 1 - y_i\n",
    "    gini = 1 - 2 * gini / (ntrue * (n - ntrue))\n",
    "    return gini"
   ]
  },
  {
   "cell_type": "code",
   "execution_count": 4,
   "id": "d137adc6",
   "metadata": {
    "execution": {
     "iopub.execute_input": "2024-02-21T03:23:39.117367Z",
     "iopub.status.busy": "2024-02-21T03:23:39.117055Z",
     "iopub.status.idle": "2024-02-21T03:23:39.128719Z",
     "shell.execute_reply": "2024-02-21T03:23:39.127875Z"
    },
    "papermill": {
     "duration": 0.017582,
     "end_time": "2024-02-21T03:23:39.130426",
     "exception": false,
     "start_time": "2024-02-21T03:23:39.112844",
     "status": "completed"
    },
    "tags": []
   },
   "outputs": [],
   "source": [
    "def gini_xgb(preds, dtrain):\n",
    "    labels = dtrain.get_label()\n",
    "    gini_score = -eval_gini(labels, preds)\n",
    "    return [('gini', gini_score)]\n",
    "\n",
    "def add_noise(series, noise_level):\n",
    "    return series * (1 + noise_level * np.random.randn(len(series)))\n",
    "\n",
    "def target_encode(trn_series = None,\n",
    "                 val_series = None,\n",
    "                 tst_series = None,\n",
    "                 target = None,\n",
    "                 min_samples_leaf = 1,\n",
    "                 smoothing = 1,\n",
    "                 noise_level = 0):\n",
    "    assert len(trn_series) == len(target)\n",
    "    assert trn_series.name == tst_series.name\n",
    "    temp = pd.concat([trn_series, target], axis = 1)\n",
    "    averages = temp.groupby(by = trn_series.name)[target.name].agg(['mean', 'count'])\n",
    "    smoothing  = 1 / (1 + np.exp(-averages[\"count\"] - min_samples_leaf) / smoothing)\n",
    "    prior = target.mean()\n",
    "    averages[target.name] = prior * (1 - smoothing) + averages[\"mean\"] * smoothing\n",
    "    averages.drop([\"mean\", \"count\"], axis = 1, inplace = True)\n",
    "    ft_trn_series = pd.merge(trn_series.to_frame(trn_series.name),\n",
    "                            averages.reset_index().rename(columns = {'index' : target.name, target.name : 'average'}),\n",
    "                            on = trn_series.name,\n",
    "                            how = 'left')['average'].rename(trn_series.name  + '_mean').fillna(prior)\n",
    "    \n",
    "    ft_trn_series.index = trn_series.index\n",
    "    ft_val_series = pd.merge(\n",
    "        val_series.to_frame(val_series.name),\n",
    "        averages.reset_index().rename(columns = {'index' : target.name, target.name : 'average'}),\n",
    "    on = val_series.name,\n",
    "    how = 'left')['average'].rename(trn_series.name + '_mean').fillna(prior)\n",
    "    \n",
    "    ft_val_series.index = val_series.index\n",
    "    ft_tst_series = pd.merge(\n",
    "        tst_series.to_frame(tst_series.name),\n",
    "        averages.reset_index().rename(columns = {'index' : target.name, target.name : 'average'}),\n",
    "        on = tst_series.name,\n",
    "        how = 'left')['average'].rename(trn_series.name + '_mean').fillna(prior)\n",
    "    \n",
    "    ft_tst_series.index = tst_series.index\n",
    "    return add_noise(ft_trn_series, noise_level), add_noise(ft_val_series, noise_level), add_noise(ft_tst_series, noise_level)"
   ]
  },
  {
   "cell_type": "code",
   "execution_count": 5,
   "id": "107d31fa",
   "metadata": {
    "execution": {
     "iopub.execute_input": "2024-02-21T03:23:39.138231Z",
     "iopub.status.busy": "2024-02-21T03:23:39.137960Z",
     "iopub.status.idle": "2024-02-21T03:23:46.430449Z",
     "shell.execute_reply": "2024-02-21T03:23:46.429635Z"
    },
    "papermill": {
     "duration": 7.299058,
     "end_time": "2024-02-21T03:23:46.432831",
     "exception": false,
     "start_time": "2024-02-21T03:23:39.133773",
     "status": "completed"
    },
    "tags": []
   },
   "outputs": [],
   "source": [
    "train_df = pd.read_csv('/kaggle/input/porto-seguro-safe-driver-prediction/train.csv', na_values = \"-1\")\n",
    "test_df = pd.read_csv('/kaggle/input/porto-seguro-safe-driver-prediction/test.csv', na_values = \"-1\")"
   ]
  },
  {
   "cell_type": "code",
   "execution_count": 6,
   "id": "b2d2dab2",
   "metadata": {
    "execution": {
     "iopub.execute_input": "2024-02-21T03:23:46.441319Z",
     "iopub.status.busy": "2024-02-21T03:23:46.441028Z",
     "iopub.status.idle": "2024-02-21T03:23:46.447360Z",
     "shell.execute_reply": "2024-02-21T03:23:46.446495Z"
    },
    "papermill": {
     "duration": 0.012362,
     "end_time": "2024-02-21T03:23:46.449017",
     "exception": false,
     "start_time": "2024-02-21T03:23:46.436655",
     "status": "completed"
    },
    "tags": []
   },
   "outputs": [],
   "source": [
    "train_features = [\n",
    "    \"ps_car_13\",  #            : 1571.65 / shadow  609.23\n",
    "\"ps_reg_03\",  #            : 1408.42 / shadow  511.15\n",
    "\"ps_ind_05_cat\",  #        : 1387.87 / shadow   84.72\n",
    "\"ps_ind_03\",  #            : 1219.47 / shadow  230.55\n",
    "\"ps_ind_15\",  #            :  922.18 / shadow  242.00\n",
    "\"ps_reg_02\",  #            :  920.65 / shadow  267.50\n",
    "\"ps_car_14\",  #            :  798.48 / shadow  549.58\n",
    "\"ps_car_12\",  #            :  731.93 / shadow  293.62\n",
    "\"ps_car_01_cat\",  #        :  698.07 / shadow  178.72\n",
    "\"ps_car_07_cat\",  #        :  694.53 / shadow   36.35\n",
    "\"ps_ind_17_bin\",  #        :  620.77 / shadow   23.15\n",
    "\"ps_car_03_cat\",  #        :  611.73 / shadow   50.67\n",
    "\"ps_reg_01\",  #            :  598.60 / shadow  178.57\n",
    "\"ps_car_15\",  #            :  593.35 / shadow  226.43\n",
    "\"ps_ind_01\",  #            :  547.32 / shadow  154.58\n",
    "\"ps_ind_16_bin\",  #        :  475.37 / shadow   34.17\n",
    "\"ps_ind_07_bin\",  #        :  435.28 / shadow   28.92\n",
    "\"ps_car_06_cat\",  #        :  398.02 / shadow  212.43\n",
    "\"ps_car_04_cat\",  #        :  376.87 / shadow   76.98\n",
    "\"ps_ind_06_bin\",  #        :  370.97 / shadow   36.13\n",
    "\"ps_car_09_cat\",  #        :  214.12 / shadow   81.38\n",
    "\"ps_car_02_cat\",  #        :  203.03 / shadow   26.67\n",
    "\"ps_ind_02_cat\",  #        :  189.47 / shadow   65.68\n",
    "\"ps_car_11\",  #            :  173.28 / shadow   76.45\n",
    "\"ps_car_05_cat\",  #        :  172.75 / shadow   62.92\n",
    "\"ps_calc_09\",  #           :  169.13 / shadow  129.72\n",
    "\"ps_calc_05\",  #           :  148.83 / shadow  120.68\n",
    "\"ps_ind_08_bin\",  #        :  140.73 / shadow   27.63\n",
    "\"ps_car_08_cat\",  #        :  120.87 / shadow   28.82\n",
    "\"ps_ind_09_bin\",  #        :  113.92 / shadow   27.05\n",
    "\"ps_ind_04_cat\",  #        :  107.27 / shadow   37.43\n",
    "\"ps_ind_18_bin\",  #        :   77.42 / shadow   25.97\n",
    "\"ps_ind_12_bin\",  #        :   39.67 / shadow   15.52\n",
    "\"ps_ind_14\",  #            :   37.37 / shadow   16.65\n",
    "                ]\n",
    "\n",
    "combs = [\n",
    "    ('ps_reg_01', 'ps_car_02_cat'),  \n",
    "    ('ps_reg_01', 'ps_car_04_cat'),\n",
    "]"
   ]
  },
  {
   "cell_type": "code",
   "execution_count": 7,
   "id": "d432e90c",
   "metadata": {
    "execution": {
     "iopub.execute_input": "2024-02-21T03:23:46.457199Z",
     "iopub.status.busy": "2024-02-21T03:23:46.456947Z",
     "iopub.status.idle": "2024-02-21T03:23:51.226838Z",
     "shell.execute_reply": "2024-02-21T03:23:51.226151Z"
    },
    "papermill": {
     "duration": 4.776137,
     "end_time": "2024-02-21T03:23:51.228862",
     "exception": false,
     "start_time": "2024-02-21T03:23:46.452725",
     "status": "completed"
    },
    "tags": []
   },
   "outputs": [
    {
     "name": "stdout",
     "output_type": "stream",
     "text": [
      "\r"
     ]
    }
   ],
   "source": [
    "id_test = test_df['id'].values\n",
    "id_train = train_df['id'].values\n",
    "y = train_df['target']\n",
    "\n",
    "start = time.time()\n",
    "for n_c, (f1, f2) in enumerate(combs):\n",
    "    name1 = f1 + \"_plus_\" + f2\n",
    "    print('current feature %60s %4d in %5.1f' %(name1, n_c + 1, (time.time() - start) / 60), end = '')\n",
    "    print('\\r' * 75, end = '')\n",
    "    train_df[name1] = train_df[f1].apply(lambda x : str(x)) + \"_\" + train_df[f2].apply(lambda x : str(x))\n",
    "    test_df[name1] = test_df[f1].apply(lambda x : str(x)) + \"_\" + test_df[f2].apply(lambda x : str(x))\n",
    "    lbl = LabelEncoder()\n",
    "    lbl.fit(list(train_df[name1].values) + list(test_df[name1].values))\n",
    "    train_df[name1] = lbl.transform(list(train_df[name1].values))\n",
    "    test_df[name1] = lbl.transform(list(test_df[name1].values))\n",
    "    \n",
    "    train_features.append(name1)\n",
    "\n",
    "X = train_df[train_features]\n",
    "test_df = test_df[train_features]\n",
    "\n",
    "f_cats = [f for f in X.columns if \"_cat\" in f]"
   ]
  },
  {
   "cell_type": "code",
   "execution_count": 8,
   "id": "513ec040",
   "metadata": {
    "execution": {
     "iopub.execute_input": "2024-02-21T03:23:51.237905Z",
     "iopub.status.busy": "2024-02-21T03:23:51.237524Z",
     "iopub.status.idle": "2024-02-21T03:23:51.242379Z",
     "shell.execute_reply": "2024-02-21T03:23:51.241539Z"
    },
    "papermill": {
     "duration": 0.011301,
     "end_time": "2024-02-21T03:23:51.244040",
     "exception": false,
     "start_time": "2024-02-21T03:23:51.232739",
     "status": "completed"
    },
    "tags": []
   },
   "outputs": [],
   "source": [
    "y_valid_pred = 0*y\n",
    "y_test_pred = 0"
   ]
  },
  {
   "cell_type": "code",
   "execution_count": 9,
   "id": "2ce0918a",
   "metadata": {
    "execution": {
     "iopub.execute_input": "2024-02-21T03:23:51.252077Z",
     "iopub.status.busy": "2024-02-21T03:23:51.251819Z",
     "iopub.status.idle": "2024-02-21T03:23:51.256329Z",
     "shell.execute_reply": "2024-02-21T03:23:51.255388Z"
    },
    "papermill": {
     "duration": 0.010357,
     "end_time": "2024-02-21T03:23:51.257943",
     "exception": false,
     "start_time": "2024-02-21T03:23:51.247586",
     "status": "completed"
    },
    "tags": []
   },
   "outputs": [],
   "source": [
    "K = 5\n",
    "kf = KFold(n_splits = K, random_state = 1, shuffle = True)\n",
    "np.random.seed(0)"
   ]
  },
  {
   "cell_type": "code",
   "execution_count": 10,
   "id": "a42eea00",
   "metadata": {
    "execution": {
     "iopub.execute_input": "2024-02-21T03:23:51.265814Z",
     "iopub.status.busy": "2024-02-21T03:23:51.265546Z",
     "iopub.status.idle": "2024-02-21T03:23:51.270078Z",
     "shell.execute_reply": "2024-02-21T03:23:51.269312Z"
    },
    "papermill": {
     "duration": 0.010316,
     "end_time": "2024-02-21T03:23:51.271728",
     "exception": false,
     "start_time": "2024-02-21T03:23:51.261412",
     "status": "completed"
    },
    "tags": []
   },
   "outputs": [],
   "source": [
    "model = XGBClassifier(n_estimators = MAX_ROUNDS,\n",
    "                     max_depth = 4,\n",
    "                     objective = 'binary:logistic',\n",
    "                     learning_rate = LEARNING_RATE,\n",
    "                     subsample = .8,\n",
    "                     min_child_weight = 6,\n",
    "                     colsample_bytree = .8,\n",
    "                     scale_pos_weight = 1.6,\n",
    "                     gamma = 10,\n",
    "                     reg_alpha = 8,\n",
    "                     reg_lambda = 1.3)"
   ]
  },
  {
   "cell_type": "code",
   "execution_count": 11,
   "id": "d0cb9027",
   "metadata": {
    "execution": {
     "iopub.execute_input": "2024-02-21T03:23:51.279999Z",
     "iopub.status.busy": "2024-02-21T03:23:51.279780Z",
     "iopub.status.idle": "2024-02-21T03:25:06.030602Z",
     "shell.execute_reply": "2024-02-21T03:25:06.030030Z"
    },
    "papermill": {
     "duration": 74.756975,
     "end_time": "2024-02-21T03:25:06.032224",
     "exception": false,
     "start_time": "2024-02-21T03:23:51.275249",
     "status": "completed"
    },
    "tags": []
   },
   "outputs": [
    {
     "name": "stdout",
     "output_type": "stream",
     "text": [
      "\n",
      "Fold  0\n",
      " Gini =  0.2832878653237678\n",
      "\n",
      "Fold  1\n",
      " Gini =  0.27714223992889586\n",
      "\n",
      "Fold  2\n",
      " Gini =  0.2701294742089442\n",
      "\n",
      "Fold  3\n",
      " Gini =  0.2958005639364206\n",
      "\n",
      "Fold  4\n",
      " Gini =  0.28034071558705054\n",
      "\n",
      "Gini for full training set:\n"
     ]
    },
    {
     "data": {
      "text/plain": [
       "0.28108681108127376"
      ]
     },
     "execution_count": 11,
     "metadata": {},
     "output_type": "execute_result"
    }
   ],
   "source": [
    "for i, (train_index, test_index) in enumerate(kf.split(train_df)):\n",
    "    y_train, y_valid = y.iloc[train_index].copy(), y.iloc[test_index]\n",
    "    X_train, X_valid = X.iloc[train_index,:].copy(), X.iloc[test_index,:].copy()\n",
    "    X_test = test_df.copy()\n",
    "    print(\"\\nFold \", i)\n",
    "    \n",
    "    for f in f_cats:\n",
    "        X_train[f + \"_avg\"], X_valid[f + \"_avg\"], X_test[f + \"_avg\"] = target_encode(trn_series = X_train[f],\n",
    "                                                                                    val_series = X_valid[f],\n",
    "                                                                                    tst_series = X_test[f],\n",
    "                                                                                    target = y_train,\n",
    "                                                                                    min_samples_leaf = 200,\n",
    "                                                                                    smoothing = 10,\n",
    "                                                                                    noise_level = 0)\n",
    "    if OPTIMIZE_ROUNDS:\n",
    "        eval_set = [(X_valid, y_valid)]\n",
    "        fit_model = model.fit(X_train, y_train,\n",
    "                                 eval_set = eval_set,\n",
    "                                 eval_metric = gini_xgb,\n",
    "                                 early_stopping_rounds = EARLY_STOPPING_ROUNDS,\n",
    "                                 verbose = False)\n",
    "        print(\" Best N trees = \", model.best_ntree_limit)\n",
    "        print(\" Best gini = \", model.best_score)\n",
    "    else:\n",
    "        fit_model = model.fit(X_train, y_train)\n",
    "            \n",
    "    pred = fit_model.predict_proba(X_valid)[:,1]\n",
    "    print(\" Gini = \",eval_gini(y_valid, pred) )\n",
    "    y_valid_pred.iloc[test_index] = pred\n",
    "        \n",
    "    y_test_pred += fit_model.predict_proba(X_test)[:,1]\n",
    "        \n",
    "    del X_test, X_train, X_valid, y_train\n",
    "        \n",
    "y_test_pred /= K\n",
    "    \n",
    "print(\"\\nGini for full training set:\")\n",
    "eval_gini(y, y_valid_pred)"
   ]
  },
  {
   "cell_type": "code",
   "execution_count": 12,
   "id": "82142291",
   "metadata": {
    "execution": {
     "iopub.execute_input": "2024-02-21T03:25:06.042508Z",
     "iopub.status.busy": "2024-02-21T03:25:06.041708Z",
     "iopub.status.idle": "2024-02-21T03:25:07.194999Z",
     "shell.execute_reply": "2024-02-21T03:25:07.193920Z"
    },
    "papermill": {
     "duration": 1.160444,
     "end_time": "2024-02-21T03:25:07.197122",
     "exception": false,
     "start_time": "2024-02-21T03:25:06.036678",
     "status": "completed"
    },
    "tags": []
   },
   "outputs": [],
   "source": [
    "val = pd.DataFrame()\n",
    "val['id'] = id_train\n",
    "val['target'] = y_valid_pred.values\n",
    "val.to_csv('xgb_valid.csv', float_format = '%.6f', index = False)"
   ]
  },
  {
   "cell_type": "code",
   "execution_count": 13,
   "id": "6380c257",
   "metadata": {
    "execution": {
     "iopub.execute_input": "2024-02-21T03:25:07.207807Z",
     "iopub.status.busy": "2024-02-21T03:25:07.207442Z",
     "iopub.status.idle": "2024-02-21T03:25:08.955090Z",
     "shell.execute_reply": "2024-02-21T03:25:08.954245Z"
    },
    "papermill": {
     "duration": 1.755346,
     "end_time": "2024-02-21T03:25:08.957198",
     "exception": false,
     "start_time": "2024-02-21T03:25:07.201852",
     "status": "completed"
    },
    "tags": []
   },
   "outputs": [],
   "source": [
    "sub = pd.DataFrame()\n",
    "sub['id'] = id_test\n",
    "sub['target'] = y_test_pred\n",
    "sub.to_csv('xgb_sumbit.csv', float_format = '%.6f', index = False)"
   ]
  },
  {
   "cell_type": "code",
   "execution_count": null,
   "id": "14f4fca0",
   "metadata": {
    "papermill": {
     "duration": 0.003961,
     "end_time": "2024-02-21T03:25:08.965658",
     "exception": false,
     "start_time": "2024-02-21T03:25:08.961697",
     "status": "completed"
    },
    "tags": []
   },
   "outputs": [],
   "source": []
  }
 ],
 "metadata": {
  "kaggle": {
   "accelerator": "none",
   "dataSources": [
    {
     "databundleVersionId": 874852,
     "sourceId": 7082,
     "sourceType": "competition"
    }
   ],
   "dockerImageVersionId": 30646,
   "isGpuEnabled": false,
   "isInternetEnabled": true,
   "language": "python",
   "sourceType": "notebook"
  },
  "kernelspec": {
   "display_name": "Python 3",
   "language": "python",
   "name": "python3"
  },
  "language_info": {
   "codemirror_mode": {
    "name": "ipython",
    "version": 3
   },
   "file_extension": ".py",
   "mimetype": "text/x-python",
   "name": "python",
   "nbconvert_exporter": "python",
   "pygments_lexer": "ipython3",
   "version": "3.10.13"
  },
  "papermill": {
   "default_parameters": {},
   "duration": 95.682927,
   "end_time": "2024-02-21T03:25:09.590000",
   "environment_variables": {},
   "exception": null,
   "input_path": "__notebook__.ipynb",
   "output_path": "__notebook__.ipynb",
   "parameters": {},
   "start_time": "2024-02-21T03:23:33.907073",
   "version": "2.5.0"
  }
 },
 "nbformat": 4,
 "nbformat_minor": 5
}
